{
 "cells": [
  {
   "cell_type": "markdown",
   "metadata": {},
   "source": [
    "### Imports"
   ]
  },
  {
   "cell_type": "code",
   "execution_count": 1,
   "metadata": {},
   "outputs": [],
   "source": [
    "import pandas as pd\n",
    "import numpy as np\n",
    "import matplotlib.pyplot as plt\n",
    "import seaborn as sb\n",
    "sb.set_style(\"darkgrid\")\n",
    "from stop_words import get_stop_words\n",
    "import re\n",
    "from string import punctuation\n",
    "from sklearn.feature_extraction.text import CountVectorizer\n",
    "from sklearn.model_selection import train_test_split\n",
    "from sklearn.feature_extraction.text import TfidfVectorizer\n",
    "from nltk.stem.snowball import FrenchStemmer\n",
    "from nltk.tokenize import word_tokenize\n",
    "from sklearn.pipeline import Pipeline\n",
    "from sklearn.linear_model import LogisticRegression\n",
    "from sklearn.model_selection import GridSearchCV\n",
    "from sklearn.metrics import classification_report\n",
    "from sklearn.metrics import confusion_matrix\n",
    "from sklearn.svm import SVC"
   ]
  },
  {
   "cell_type": "markdown",
   "metadata": {},
   "source": [
    "### Side functions"
   ]
  },
  {
   "cell_type": "code",
   "execution_count": 2,
   "metadata": {},
   "outputs": [],
   "source": [
    "def cleanString(sentence):\n",
    "    \n",
    "    \"\"\"Return string\n",
    "    \n",
    "    Remove punctuation from sentence\n",
    "    \"\"\"\n",
    "    \n",
    "    return \"\".join(\" \" if p in punctuation else p for p in sentence.strip(punctuation))\n",
    "\n",
    "\n",
    "def cleanStopWords(sentence, stopWords):\n",
    "    \n",
    "    \"\"\"Return string\n",
    "    \n",
    "    Remove stopWords from sentence\n",
    "    \"\"\"\n",
    "    # removing the stop words and lowercasing the selected words\n",
    "    text = [word.lower() for word in sentence.split() if word.lower() not in stopWords]\n",
    "    # joining the list of words with space separator\n",
    "    return \" \".join(text)\n",
    "\n",
    "\n",
    "def get_top_n_words(corpus, n=None):\n",
    "    \n",
    "    \"\"\"Return a list\n",
    "    \n",
    "    List the top n words in a vocabulary according to occurrence in a text corpus.\n",
    "    \"\"\"\n",
    "    \n",
    "    # create a count vectorizer object\n",
    "    vec = CountVectorizer()\n",
    "    # fit and transform the data using vec\n",
    "    bag_of_words = vec.fit_transform(corpus)\n",
    "    # sum each word occurrence\n",
    "    sum_words = bag_of_words.sum(axis=0)\n",
    "    # number of words in the corpus \n",
    "    total = sum_words.sum(axis=1)[0,0]\n",
    "    # create list of words frequency\n",
    "    words_freq = [(word, sum_words[0, idx] / total) for word, idx in vec.vocabulary_.items()]\n",
    "    # sort the list\n",
    "    words_freq =sorted(words_freq, key = lambda x: x[1], reverse=True)\n",
    "    return words_freq[:n]\n",
    "\n",
    "def plot_word_freq(words, freq, title, n=30, adjx=0, adjy=0, c=\"darkorange\"):\n",
    "    \n",
    "    \"\"\"Plot words frequency\n",
    "    words : list : list of words to plot\n",
    "    freq  : list : frequency of each word in words\n",
    "    title : string : plot title\n",
    "    n : int : number of words (len(words))\n",
    "    adj: int: annotation adjustement\n",
    "    \"\"\"\n",
    "    \n",
    "    plt.figure(figsize=(10, 8))\n",
    "    ax = sb.pointplot(x=list(range(1,n+1)), y=freq, color=c)\n",
    "    #For each point, we add the word as annotation\n",
    "    for line in range(n):\n",
    "         ax.text(line+adjx, freq[line]+adjy, words[line], \\\n",
    "                 horizontalalignment='left', size='large', rotation = 50)\n",
    "    ax.set(xlabel='Word index', ylabel='Word frequency', title=title)\n",
    "    \n",
    "    \n",
    "def tokenizer_stemmer(sentence, stemmer=FrenchStemmer()):\n",
    "        \n",
    "        \"\"\"Return a list\n",
    "        sentence: text to tokenize and stemmer\n",
    "        stemmer: stemming algorithm\n",
    "    \n",
    "        Preprocess the sentence (lowercase, remove punctuation and clean words, tokenize)\n",
    "        Return stemmed words\n",
    "        \"\"\"\n",
    "        #remove punctuation\n",
    "        text_punt = cleanString(sentence)\n",
    "        #remove stopWords\n",
    "        text_punt_sw = cleanStopWords(text_punt, stopWords)\n",
    "        # get tokens (words)\n",
    "        tokens = word_tokenize(text_punt_sw)\n",
    "        # stem the token using SnowballStemmer\n",
    "        stems = []\n",
    "        for item in tokens:\n",
    "                stems.append(stemmer.stem(item))\n",
    "        return stems\n",
    "    \n",
    "    \n",
    "def plot_param_effect(grid, param, title):\n",
    "    \n",
    "    \"\"\"Plot train and validation scores for param\n",
    "    \n",
    "    param: string: parameter to analyse\n",
    "    title: string: title\n",
    "    \n",
    "    \"\"\"\n",
    "    ax2 = sb.lineplot(x=grid.cv_results_[param].data.tolist(), y=grid.cv_results_[\"mean_train_score\"], label=\"train\")\n",
    "    ax1 = sb.lineplot(x=grid.cv_results_[param].data.tolist(), y=grid.cv_results_[\"mean_test_score\"], label = 'validation')\n",
    "    plt.legend()\n",
    "    ax1.set(xlabel='parameter values', ylabel='Score', title=title)\n",
    "    plt.savefig(\"images/\"+title+\".png\")\n",
    "    \n",
    "    \n",
    "def plot_confusion_matrix(y_test, y_pred, classes, normalize=False, title=None, cmap=plt.cm.Blues):\n",
    "    \n",
    "    \"\"\"\n",
    "    This function prints and plots the confusion matrix.\n",
    "    Normalization can be applied by setting `normalize=True`.\n",
    "    \"\"\"\n",
    "    \n",
    "    title = title\n",
    "\n",
    "    # Compute confusion matrix\n",
    "    cm = confusion_matrix(y_test, y_pred)\n",
    "    # Only use the labels that appear in the data\n",
    "    classes = classes\n",
    "\n",
    "    print(cm)\n",
    "\n",
    "    fig, ax = plt.subplots()\n",
    "    im = ax.imshow(cm, interpolation='nearest', cmap=cmap)\n",
    "    ax.figure.colorbar(im, ax=ax)\n",
    "    # We want to show all ticks...\n",
    "    ax.set(xticks=np.arange(cm.shape[1]),\n",
    "           yticks=np.arange(cm.shape[0]),\n",
    "           # ... and label them with the respective list entries\n",
    "           xticklabels=classes, yticklabels=classes,\n",
    "           title=title,\n",
    "           ylabel='True label',\n",
    "           xlabel='Predicted label')\n",
    "\n",
    "    # Rotate the tick labels and set their alignment.\n",
    "    plt.setp(ax.get_xticklabels(), rotation=45, ha=\"right\",\n",
    "             rotation_mode=\"anchor\")\n",
    "\n",
    "    # Loop over data dimensions and create text annotations.\n",
    "    fmt = 'd'\n",
    "    thresh = cm.max() / 2.\n",
    "    for i in range(cm.shape[0]):\n",
    "        for j in range(cm.shape[1]):\n",
    "            ax.text(j, i, format(cm[i, j], fmt),\n",
    "                    ha=\"center\", va=\"center\",\n",
    "                    color=\"white\" if cm[i, j] > thresh else \"black\")\n",
    "    fig.tight_layout()\n",
    "    return ax\n",
    "\n",
    "\n",
    "    np.set_printoptions(precision=2)\n",
    "\n",
    "    # Plot matrice de confusion\n",
    "    plot_confusion_matrix(df_clustering[\"True label\"], df_clustering[\"Predicted labels\"],\n",
    "                      classes=classes)\n",
    "\n",
    "    plt.show()"
   ]
  },
  {
   "cell_type": "markdown",
   "metadata": {},
   "source": [
    "### I- Data loading"
   ]
  },
  {
   "cell_type": "code",
   "execution_count": 3,
   "metadata": {},
   "outputs": [],
   "source": [
    "# load sentences from Data folder\n",
    "sentences = pd.read_pickle(\"Data/sentences.pkl\")\n",
    "# load labels from Data folder\n",
    "labels = pd.read_pickle(\"Data/labels.pkl\")"
   ]
  },
  {
   "cell_type": "code",
   "execution_count": 4,
   "metadata": {},
   "outputs": [],
   "source": [
    "# convert sentences to pandas dataframe\n",
    "data = pd.DataFrame(({'sentences':sentences, 'labels':labels})) "
   ]
  },
  {
   "cell_type": "code",
   "execution_count": 5,
   "metadata": {},
   "outputs": [
    {
     "data": {
      "text/html": [
       "<div>\n",
       "<style scoped>\n",
       "    .dataframe tbody tr th:only-of-type {\n",
       "        vertical-align: middle;\n",
       "    }\n",
       "\n",
       "    .dataframe tbody tr th {\n",
       "        vertical-align: top;\n",
       "    }\n",
       "\n",
       "    .dataframe thead th {\n",
       "        text-align: right;\n",
       "    }\n",
       "</style>\n",
       "<table border=\"1\" class=\"dataframe\">\n",
       "  <thead>\n",
       "    <tr style=\"text-align: right;\">\n",
       "      <th></th>\n",
       "      <th>sentences</th>\n",
       "      <th>labels</th>\n",
       "    </tr>\n",
       "  </thead>\n",
       "  <tbody>\n",
       "    <tr>\n",
       "      <td>0</td>\n",
       "      <td>J'aurai l'occasion de dire aux Français commen...</td>\n",
       "      <td>C</td>\n",
       "    </tr>\n",
       "    <tr>\n",
       "      <td>1</td>\n",
       "      <td>Il est nécessaire.</td>\n",
       "      <td>C</td>\n",
       "    </tr>\n",
       "    <tr>\n",
       "      <td>2</td>\n",
       "      <td>Dans votre coeur et dans votre vie, la confian...</td>\n",
       "      <td>C</td>\n",
       "    </tr>\n",
       "    <tr>\n",
       "      <td>3</td>\n",
       "      <td>Pour conduire ce débat dans un esprit de vérit...</td>\n",
       "      <td>C</td>\n",
       "    </tr>\n",
       "    <tr>\n",
       "      <td>4</td>\n",
       "      <td>La France et l'Europe construiront ainsi un av...</td>\n",
       "      <td>C</td>\n",
       "    </tr>\n",
       "  </tbody>\n",
       "</table>\n",
       "</div>"
      ],
      "text/plain": [
       "                                           sentences labels\n",
       "0  J'aurai l'occasion de dire aux Français commen...      C\n",
       "1                                 Il est nécessaire.      C\n",
       "2  Dans votre coeur et dans votre vie, la confian...      C\n",
       "3  Pour conduire ce débat dans un esprit de vérit...      C\n",
       "4  La France et l'Europe construiront ainsi un av...      C"
      ]
     },
     "execution_count": 5,
     "metadata": {},
     "output_type": "execute_result"
    }
   ],
   "source": [
    "data.head()"
   ]
  },
  {
   "cell_type": "markdown",
   "metadata": {},
   "source": [
    "### II- Data preprocessing"
   ]
  },
  {
   "cell_type": "markdown",
   "metadata": {},
   "source": [
    "In this section, we will clean the data."
   ]
  },
  {
   "cell_type": "code",
   "execution_count": 6,
   "metadata": {},
   "outputs": [],
   "source": [
    "# load list of french stopwords\n",
    "stopWords = get_stop_words('french')\n",
    "# Remove punctuation and set to lowercase\n",
    "data['clean_sentences'] = data['sentences'].apply(lambda s: cleanString(s.lower()))\n",
    "# Remove stop words\n",
    "data['non_stopWords'] = data['clean_sentences'].apply(lambda s: cleanStopWords(s, stopWords))\n",
    "# return the number of words foreach tweet\n",
    "data['count_word'] = data['clean_sentences'].apply(lambda s: len(s.split(' ')))\n",
    "# return the number of non stopwords foreach tweet\n",
    "data['count_non_stopWords'] = data['non_stopWords'].apply(lambda s: len(s.split(' ')))"
   ]
  },
  {
   "cell_type": "code",
   "execution_count": 7,
   "metadata": {},
   "outputs": [
    {
     "data": {
      "text/html": [
       "<div>\n",
       "<style scoped>\n",
       "    .dataframe tbody tr th:only-of-type {\n",
       "        vertical-align: middle;\n",
       "    }\n",
       "\n",
       "    .dataframe tbody tr th {\n",
       "        vertical-align: top;\n",
       "    }\n",
       "\n",
       "    .dataframe thead th {\n",
       "        text-align: right;\n",
       "    }\n",
       "</style>\n",
       "<table border=\"1\" class=\"dataframe\">\n",
       "  <thead>\n",
       "    <tr style=\"text-align: right;\">\n",
       "      <th></th>\n",
       "      <th>sentences</th>\n",
       "      <th>labels</th>\n",
       "      <th>clean_sentences</th>\n",
       "      <th>non_stopWords</th>\n",
       "      <th>count_word</th>\n",
       "      <th>count_non_stopWords</th>\n",
       "    </tr>\n",
       "  </thead>\n",
       "  <tbody>\n",
       "    <tr>\n",
       "      <td>0</td>\n",
       "      <td>J'aurai l'occasion de dire aux Français commen...</td>\n",
       "      <td>C</td>\n",
       "      <td>j aurai l occasion de dire aux français commen...</td>\n",
       "      <td>occasion dire français enseignement devra évol...</td>\n",
       "      <td>59</td>\n",
       "      <td>23</td>\n",
       "    </tr>\n",
       "    <tr>\n",
       "      <td>1</td>\n",
       "      <td>Il est nécessaire.</td>\n",
       "      <td>C</td>\n",
       "      <td>il est nécessaire</td>\n",
       "      <td>nécessaire</td>\n",
       "      <td>3</td>\n",
       "      <td>1</td>\n",
       "    </tr>\n",
       "    <tr>\n",
       "      <td>2</td>\n",
       "      <td>Dans votre coeur et dans votre vie, la confian...</td>\n",
       "      <td>C</td>\n",
       "      <td>dans votre coeur et dans votre vie  la confian...</td>\n",
       "      <td>coeur vie confiance enthousiasme emportent doute</td>\n",
       "      <td>18</td>\n",
       "      <td>6</td>\n",
       "    </tr>\n",
       "    <tr>\n",
       "      <td>3</td>\n",
       "      <td>Pour conduire ce débat dans un esprit de vérit...</td>\n",
       "      <td>C</td>\n",
       "      <td>pour conduire ce débat dans un esprit de vérit...</td>\n",
       "      <td>conduire débat esprit véritable dialogue compt...</td>\n",
       "      <td>59</td>\n",
       "      <td>27</td>\n",
       "    </tr>\n",
       "    <tr>\n",
       "      <td>4</td>\n",
       "      <td>La France et l'Europe construiront ainsi un av...</td>\n",
       "      <td>C</td>\n",
       "      <td>la france et l europe construiront ainsi un av...</td>\n",
       "      <td>france europe construiront ainsi avenir coopér...</td>\n",
       "      <td>34</td>\n",
       "      <td>16</td>\n",
       "    </tr>\n",
       "  </tbody>\n",
       "</table>\n",
       "</div>"
      ],
      "text/plain": [
       "                                           sentences labels  \\\n",
       "0  J'aurai l'occasion de dire aux Français commen...      C   \n",
       "1                                 Il est nécessaire.      C   \n",
       "2  Dans votre coeur et dans votre vie, la confian...      C   \n",
       "3  Pour conduire ce débat dans un esprit de vérit...      C   \n",
       "4  La France et l'Europe construiront ainsi un av...      C   \n",
       "\n",
       "                                     clean_sentences  \\\n",
       "0  j aurai l occasion de dire aux français commen...   \n",
       "1                                  il est nécessaire   \n",
       "2  dans votre coeur et dans votre vie  la confian...   \n",
       "3  pour conduire ce débat dans un esprit de vérit...   \n",
       "4  la france et l europe construiront ainsi un av...   \n",
       "\n",
       "                                       non_stopWords  count_word  \\\n",
       "0  occasion dire français enseignement devra évol...          59   \n",
       "1                                         nécessaire           3   \n",
       "2   coeur vie confiance enthousiasme emportent doute          18   \n",
       "3  conduire débat esprit véritable dialogue compt...          59   \n",
       "4  france europe construiront ainsi avenir coopér...          34   \n",
       "\n",
       "   count_non_stopWords  \n",
       "0                   23  \n",
       "1                    1  \n",
       "2                    6  \n",
       "3                   27  \n",
       "4                   16  "
      ]
     },
     "execution_count": 7,
     "metadata": {},
     "output_type": "execute_result"
    }
   ],
   "source": [
    "data.head()"
   ]
  },
  {
   "cell_type": "markdown",
   "metadata": {},
   "source": [
    "### III- EDA "
   ]
  },
  {
   "cell_type": "markdown",
   "metadata": {},
   "source": [
    "#### 1- Data balancy"
   ]
  },
  {
   "cell_type": "code",
   "execution_count": 8,
   "metadata": {},
   "outputs": [
    {
     "data": {
      "text/plain": [
       "Text(0.5, 1.0, 'Labels count')"
      ]
     },
     "execution_count": 8,
     "metadata": {},
     "output_type": "execute_result"
    },
    {
     "data": {
      "image/png": "[encoded data removed]",
      "text/plain": [
       "<Figure size 576x432 with 1 Axes>"
      ]
     },
     "metadata": {
      "needs_background": "light"
     },
     "output_type": "display_data"
    }
   ],
   "source": [
    "#Is the dataset balanced?\n",
    "plt.figure(figsize=(8, 6))  # set plot size\n",
    "ax = sb.countplot(x=\"labels\", data=data)\n",
    "ax.set_title(\"Labels count\")"
   ]
  },
  {
   "cell_type": "markdown",
   "metadata": {},
   "source": [
    "The plot shows that our data is unbalanced. We get around 40000 rows for Chirac versus 6000 rows for Mitterrand. \n",
    "We have to take into consideration this point when splitting the data."
   ]
  },
  {
   "cell_type": "markdown",
   "metadata": {},
   "source": [
    "#### 2- Words count"
   ]
  },
  {
   "cell_type": "code",
   "execution_count": 9,
   "metadata": {
    "scrolled": true
   },
   "outputs": [
    {
     "data": {
      "text/plain": [
       "Text(0.5, 1.0, 'Word count foreach president')"
      ]
     },
     "execution_count": 9,
     "metadata": {},
     "output_type": "execute_result"
    },
    {
     "data": {
      "image/png": "[encoded data removed]",
      "text/plain": [
       "<Figure size 720x1440 with 1 Axes>"
      ]
     },
     "metadata": {
      "needs_background": "light"
     },
     "output_type": "display_data"
    }
   ],
   "source": [
    "plt.figure(figsize=(10, 20))  # set plot size\n",
    "ax = sb.boxplot(x=\"labels\", y=\"count_word\", data=data)\n",
    "ax.set_title(\"Word count foreach president\")"
   ]
  },
  {
   "cell_type": "markdown",
   "metadata": {},
   "source": [
    "Overall, Mitterand use longer sentences. As average, the sentence length is 31 word for Mitterand and 24 for Chirac."
   ]
  },
  {
   "cell_type": "markdown",
   "metadata": {},
   "source": [
    "#### 3- Most used words"
   ]
  },
  {
   "cell_type": "code",
   "execution_count": 10,
   "metadata": {},
   "outputs": [
    {
     "data": {
      "text/html": [
       "<div>\n",
       "<style scoped>\n",
       "    .dataframe tbody tr th:only-of-type {\n",
       "        vertical-align: middle;\n",
       "    }\n",
       "\n",
       "    .dataframe tbody tr th {\n",
       "        vertical-align: top;\n",
       "    }\n",
       "\n",
       "    .dataframe thead th {\n",
       "        text-align: right;\n",
       "    }\n",
       "</style>\n",
       "<table border=\"1\" class=\"dataframe\">\n",
       "  <thead>\n",
       "    <tr style=\"text-align: right;\">\n",
       "      <th></th>\n",
       "      <th>sentences</th>\n",
       "      <th>labels</th>\n",
       "      <th>clean_sentences</th>\n",
       "      <th>non_stopWords</th>\n",
       "      <th>count_word</th>\n",
       "      <th>count_non_stopWords</th>\n",
       "    </tr>\n",
       "  </thead>\n",
       "  <tbody>\n",
       "    <tr>\n",
       "      <td>0</td>\n",
       "      <td>J'aurai l'occasion de dire aux Français commen...</td>\n",
       "      <td>C</td>\n",
       "      <td>j aurai l occasion de dire aux français commen...</td>\n",
       "      <td>occasion dire français enseignement devra évol...</td>\n",
       "      <td>59</td>\n",
       "      <td>23</td>\n",
       "    </tr>\n",
       "    <tr>\n",
       "      <td>1</td>\n",
       "      <td>Il est nécessaire.</td>\n",
       "      <td>C</td>\n",
       "      <td>il est nécessaire</td>\n",
       "      <td>nécessaire</td>\n",
       "      <td>3</td>\n",
       "      <td>1</td>\n",
       "    </tr>\n",
       "    <tr>\n",
       "      <td>2</td>\n",
       "      <td>Dans votre coeur et dans votre vie, la confian...</td>\n",
       "      <td>C</td>\n",
       "      <td>dans votre coeur et dans votre vie  la confian...</td>\n",
       "      <td>coeur vie confiance enthousiasme emportent doute</td>\n",
       "      <td>18</td>\n",
       "      <td>6</td>\n",
       "    </tr>\n",
       "    <tr>\n",
       "      <td>3</td>\n",
       "      <td>Pour conduire ce débat dans un esprit de vérit...</td>\n",
       "      <td>C</td>\n",
       "      <td>pour conduire ce débat dans un esprit de vérit...</td>\n",
       "      <td>conduire débat esprit véritable dialogue compt...</td>\n",
       "      <td>59</td>\n",
       "      <td>27</td>\n",
       "    </tr>\n",
       "    <tr>\n",
       "      <td>4</td>\n",
       "      <td>La France et l'Europe construiront ainsi un av...</td>\n",
       "      <td>C</td>\n",
       "      <td>la france et l europe construiront ainsi un av...</td>\n",
       "      <td>france europe construiront ainsi avenir coopér...</td>\n",
       "      <td>34</td>\n",
       "      <td>16</td>\n",
       "    </tr>\n",
       "  </tbody>\n",
       "</table>\n",
       "</div>"
      ],
      "text/plain": [
       "                                           sentences labels  \\\n",
       "0  J'aurai l'occasion de dire aux Français commen...      C   \n",
       "1                                 Il est nécessaire.      C   \n",
       "2  Dans votre coeur et dans votre vie, la confian...      C   \n",
       "3  Pour conduire ce débat dans un esprit de vérit...      C   \n",
       "4  La France et l'Europe construiront ainsi un av...      C   \n",
       "\n",
       "                                     clean_sentences  \\\n",
       "0  j aurai l occasion de dire aux français commen...   \n",
       "1                                  il est nécessaire   \n",
       "2  dans votre coeur et dans votre vie  la confian...   \n",
       "3  pour conduire ce débat dans un esprit de vérit...   \n",
       "4  la france et l europe construiront ainsi un av...   \n",
       "\n",
       "                                       non_stopWords  count_word  \\\n",
       "0  occasion dire français enseignement devra évol...          59   \n",
       "1                                         nécessaire           3   \n",
       "2   coeur vie confiance enthousiasme emportent doute          18   \n",
       "3  conduire débat esprit véritable dialogue compt...          59   \n",
       "4  france europe construiront ainsi avenir coopér...          34   \n",
       "\n",
       "   count_non_stopWords  \n",
       "0                   23  \n",
       "1                    1  \n",
       "2                    6  \n",
       "3                   27  \n",
       "4                   16  "
      ]
     },
     "execution_count": 10,
     "metadata": {},
     "output_type": "execute_result"
    }
   ],
   "source": [
    "data.head()"
   ]
  },
  {
   "cell_type": "markdown",
   "metadata": {},
   "source": [
    "#####  a- all words"
   ]
  },
  {
   "cell_type": "code",
   "execution_count": 11,
   "metadata": {},
   "outputs": [
    {
     "data": {
      "image/png": "[encoded data removed]",
      "text/plain": [
       "<Figure size 720x576 with 1 Axes>"
      ]
     },
     "metadata": {
      "needs_background": "light"
     },
     "output_type": "display_data"
    }
   ],
   "source": [
    "top_30_words = get_top_n_words(data[\"clean_sentences\"], n=30) # get top 30 words with their frequency\n",
    "top_30_words_words = [elt[0] for elt in top_30_words]\n",
    "top_30_words_freq = [elt[1] for elt in top_30_words]\n",
    "# plot the graph\n",
    "plot_word_freq(top_30_words_words, top_30_words_freq, \"Top 30 words\", adjx=0.2, c=\"salmon\")"
   ]
  },
  {
   "cell_type": "markdown",
   "metadata": {},
   "source": [
    "We start by looking at the presence of words in all the documents. We see in the figure above that stop words dominate.\n",
    "Let's do the same plot after removing this words."
   ]
  },
  {
   "cell_type": "markdown",
   "metadata": {},
   "source": [
    "##### b- remove stopwords"
   ]
  },
  {
   "cell_type": "code",
   "execution_count": 12,
   "metadata": {
    "scrolled": false
   },
   "outputs": [
    {
     "data": {
      "image/png": "[encoded data removed]",
      "text/plain": [
       "<Figure size 720x576 with 1 Axes>"
      ]
     },
     "metadata": {
      "needs_background": "light"
     },
     "output_type": "display_data"
    }
   ],
   "source": [
    "top_30_words = get_top_n_words(data[\"non_stopWords\"], n=30) # get top 3O non stop words and their frequency\n",
    "top_30_words_words = [elt[0] for elt in top_30_words]\n",
    "top_30_words_freq = [elt[1] for elt in top_30_words]\n",
    "plot_word_freq(words=top_30_words_words, freq=top_30_words_freq, title=\"Top 30 non stopWords\", n=30, \\\n",
    "               adjx=0.05, adjy=-0.000009, c=\"salmon\")"
   ]
  },
  {
   "cell_type": "markdown",
   "metadata": {},
   "source": [
    "We can see clearly that the frequency of words is very different after removing the stop words.   \n",
    "The top 30 words can be easly finded in any french politician speech.  \n",
    "Let's do a comparaison between most used words for Chirac and for Mitterrand."
   ]
  },
  {
   "cell_type": "markdown",
   "metadata": {},
   "source": [
    "###### c- Most used words per president"
   ]
  },
  {
   "cell_type": "code",
   "execution_count": null,
   "metadata": {},
   "outputs": [],
   "source": [
    "C_data = data[data[\"labels\"] == 'C']  # get Chirac data\n",
    "top_30_words = get_top_n_words(C_data[\"non_stopWords\"], n=30) # get top 3O non stop words and their frequency\n",
    "top_30_words_words = [elt[0] for elt in top_30_words]\n",
    "top_30_words_freq = [elt[1] for elt in top_30_words]\n",
    "plot_word_freq(words=top_30_words_words, freq=top_30_words_freq, title=\"Top 30 non stopWords for Chirac\", n=30, \\\n",
    "               adjx=0.05, adjy=-0.000009, c=\"royalblue\")"
   ]
  },
  {
   "cell_type": "code",
   "execution_count": null,
   "metadata": {},
   "outputs": [],
   "source": [
    "M_data = data[data[\"labels\"] == 'M']  # get Chirac data\n",
    "top_30_words = get_top_n_words(M_data[\"non_stopWords\"], n=30) # get top 3O non stop words and their frequency\n",
    "top_30_words_words = [elt[0] for elt in top_30_words]\n",
    "top_30_words_freq = [elt[1] for elt in top_30_words]\n",
    "plot_word_freq(words=top_30_words_words, freq=top_30_words_freq, title=\"Top 30 non stopWords for Mitterrand\", n=30, \\\n",
    "               adjx=0.05, adjy=-0.000009)"
   ]
  },
  {
   "cell_type": "markdown",
   "metadata": {},
   "source": [
    "We see that \"top 30 Chirac\" words is nearer to the \"all top 30 words\" than Mitterrand. We can explain this by the fact of data unbalancy between the two presidents.  \n",
    "Secondly, the most used words for the two presidents are very similar (ex: france, europe, président). It was expected because Chirac is Mitterrand successor (president of the same nation).    \n",
    "Finally: the words \"développement\" and \"paix\" are very used by Chirac but not by Mitterrand. In the opposite side, words like \"histoire\" and \"communauté\" are very used by Mitterrrand but not by Chirac. It is probably due to the diffence of ideology (Chirac: droite, Mitterrand: gauche). Another reason, during Chirac presidential term, France didn't have the same priorities as during Mitterrand term (like wars on terrorism).    \n",
    "The last remark give us the idea to search for the words used only by Chirac (respectively Mitterrand)."
   ]
  },
  {
   "cell_type": "markdown",
   "metadata": {},
   "source": [
    "#### 4- Exclusive  words"
   ]
  },
  {
   "cell_type": "code",
   "execution_count": null,
   "metadata": {},
   "outputs": [],
   "source": [
    "# get all the words for Chirac\n",
    "all_c_words = get_top_n_words(C_data[\"non_stopWords\"], n=C_data.shape[0])\n",
    "all_c_words_words = [elt[0] for elt in all_c_words]\n",
    "# get all the words for Mitterrand\n",
    "all_m_words = get_top_n_words(M_data[\"non_stopWords\"], n=M_data.shape[0])\n",
    "all_m_words_words = [elt[0] for elt in all_m_words]\n",
    "# get exclusive words for Chirac\n",
    "excl_words_c = [word for word in all_c_words if word[0] not in all_m_words_words]\n",
    "# get exclusive words for Mitterrand\n",
    "excl_words_m = [word for word in all_m_words if word[0] not in all_c_words_words]"
   ]
  },
  {
   "cell_type": "code",
   "execution_count": null,
   "metadata": {},
   "outputs": [],
   "source": [
    "#Exclusive words Chirac plot\n",
    "excl_words_c_words = [elt[0] for elt in excl_words_c][:30]\n",
    "excl_words_c_freq = [elt[1] for elt in excl_words_c][:30]\n",
    "plot_word_freq(words=excl_words_c_words, freq=excl_words_c_freq, title=\"Exclusive words for Chirac\", n=30, \\\n",
    "               adjx=-0.1, adjy=0.00001, c=\"royalblue\")"
   ]
  },
  {
   "cell_type": "code",
   "execution_count": null,
   "metadata": {},
   "outputs": [],
   "source": [
    "#Exclusive words Mitterrand plot\n",
    "excl_words_m_words = [elt[0] for elt in excl_words_m][:30]\n",
    "excl_words_m_freq = [elt[1] for elt in excl_words_m][:30]\n",
    "plot_word_freq(words=excl_words_m_words, freq=excl_words_m_freq, title=\"Exclusive words for Mitterrand\", n=30, \\\n",
    "               adjx=-0.1, adjy=0.000002)"
   ]
  },
  {
   "cell_type": "markdown",
   "metadata": {},
   "source": [
    "By comparing the two plots, we observe many interesting points in relation with the events for each president political life:\n",
    "1. For Chirac:\n",
    "    - Euro became the official currency of France in Chirac presidential term (words: euro and mondialisation).\n",
    "    - Russia joined the G7 so it became the G8 (word: g8).\n",
    "    - Chirac was elected president in 1995 (word: 1995).\n",
    "    - He was part of Rally for the Republic (word: républicain).      \n",
    "<br>\n",
    "2. For Mitterrand\n",
    "    - He won a seat as deputy from Nièvre (word: nièvre).\n",
    "    - He collaborated with Ronald Reagan for Farewell case (word: reagan).\n",
    "    - EUREKA was established by Mitterrand (word: eurêka).\n",
    "    - He was the mayor of Château-Chinon (word: morvan)."
   ]
  },
  {
   "cell_type": "markdown",
   "metadata": {},
   "source": [
    "### IV- Splitting Data"
   ]
  },
  {
   "cell_type": "code",
   "execution_count": null,
   "metadata": {},
   "outputs": [],
   "source": [
    "data.head()"
   ]
  },
  {
   "cell_type": "code",
   "execution_count": null,
   "metadata": {},
   "outputs": [],
   "source": [
    "# convert lables 'C' and 'M' to int values (0 and 1)\n",
    "data['labelNum']= data.labels.map({'C':0, 'M':1})\n",
    "#split X and y into train and test data 80% and 20%\n",
    "#parametre stratify ensure to have the same labels distribution in train and test data\n",
    "#random_state is fixed to 1 in order to have the same split foreach execution\n",
    "X_train, X_test, y_train, y_test = train_test_split(data[\"sentences\"], data['labelNum'], test_size = 0.2,\\\n",
    "                                                   stratify=data['labelNum'], random_state=1)"
   ]
  },
  {
   "cell_type": "markdown",
   "metadata": {},
   "source": [
    "### V- Text representation"
   ]
  },
  {
   "cell_type": "markdown",
   "metadata": {},
   "source": [
    "#### 1- TF_IDF + LR"
   ]
  },
  {
   "cell_type": "code",
   "execution_count": null,
   "metadata": {
    "scrolled": true
   },
   "outputs": [
    {
     "name": "stdout",
     "output_type": "stream",
     "text": [
      "Pipeline created\n",
      "Parameters combination setted up\n",
      "gridSeach configuration setted up\n",
      "Fitting 5 folds for each of 1 candidates, totalling 5 fits\n"
     ]
    },
    {
     "name": "stderr",
     "output_type": "stream",
     "text": [
      "[Parallel(n_jobs=1)]: Using backend SequentialBackend with 1 concurrent workers.\n",
      "C:\\Users\\chenb\\Anaconda3\\lib\\site-packages\\sklearn\\linear_model\\logistic.py:432: FutureWarning: Default solver will be changed to 'lbfgs' in 0.22. Specify a solver to silence this warning.\n",
      "  FutureWarning)\n",
      "C:\\Users\\chenb\\Anaconda3\\lib\\site-packages\\sklearn\\svm\\base.py:929: ConvergenceWarning: Liblinear failed to converge, increase the number of iterations.\n",
      "  \"the number of iterations.\", ConvergenceWarning)\n",
      "C:\\Users\\chenb\\Anaconda3\\lib\\site-packages\\sklearn\\linear_model\\logistic.py:432: FutureWarning: Default solver will be changed to 'lbfgs' in 0.22. Specify a solver to silence this warning.\n",
      "  FutureWarning)\n"
     ]
    }
   ],
   "source": [
    "# create pipeline (tf_idf and Logistic regression)\n",
    "clf = Pipeline([\n",
    "    ('tfidf', TfidfVectorizer()),\n",
    "    ('logreg', LogisticRegression())\n",
    "])\n",
    "print(\"Pipeline created\")\n",
    "\n",
    "# gridsearch to tune the model\n",
    "param_grid = { \n",
    "    'logreg__C' : [50],         #[0.1, 1, 10,20, 50, 80, 1e2]\n",
    "    'logreg__penalty' : ['l1'],\n",
    "    'logreg__class_weight' : ['balanced'],\n",
    "    'logreg__max_iter': [1000],\n",
    "    'tfidf__stop_words' : [stopWords],\n",
    "    'tfidf__max_df': [.8],       #[.2, .5, .7, .8, 1]\n",
    "    'tfidf__min_df': [1],        #[0, 3, 5, 10, 20, 30]\n",
    "    'tfidf__tokenizer' : [tokenizer_stemmer],\n",
    "    'tfidf__ngram_range': [(1, 3)]\n",
    " }\n",
    "print(\"Parameters combination setted up\")\n",
    "\n",
    "\n",
    "grid = GridSearchCV(clf, cv=5, param_grid=param_grid, return_train_score=True, scoring = 'f1', verbose=1)\n",
    "print(\"GridSeach configuration setted up\")\n",
    "\n",
    "#fit the model\n",
    "grid.fit(X_train,y_train)\n",
    "print(\"Model fitted\")"
   ]
  },
  {
   "cell_type": "code",
   "execution_count": null,
   "metadata": {},
   "outputs": [],
   "source": [
    "#plot_param_effect(grid=grid, param=\"param_logreg__C\", title=\"Effect of regularization (C)\")"
   ]
  },
  {
   "cell_type": "code",
   "execution_count": null,
   "metadata": {},
   "outputs": [],
   "source": [
    "print(\"Test set predicted\")\n",
    "y_pred = grid.predict(X_test)\n",
    "\n",
    "#show classification report\n",
    "target_names = ['Chirac', 'Mitterrand']\n",
    "print(classification_report(y_test, y_pred, target_names=target_names))\n",
    "\n",
    "#show confusion matrix\n",
    "plot_confusion_matrix(y_test, y_pred, normalize=False, title=\"TF_IDF + LR confusin matrix\"\n",
    "                      classes=target_names)"
   ]
  },
  {
   "cell_type": "markdown",
   "metadata": {},
   "source": [
    "#### 2- TF_IDF + SVM"
   ]
  },
  {
   "cell_type": "code",
   "execution_count": null,
   "metadata": {},
   "outputs": [
    {
     "name": "stdout",
     "output_type": "stream",
     "text": [
      "Pipeline created\n",
      "Parameters combination setted up\n",
      "GridSeach configuration setted up\n",
      "Fitting 5 folds for each of 18 candidates, totalling 90 fits\n"
     ]
    },
    {
     "name": "stderr",
     "output_type": "stream",
     "text": [
      "[Parallel(n_jobs=-1)]: Using backend LokyBackend with 8 concurrent workers.\n"
     ]
    }
   ],
   "source": [
    "# create pipeline (tf_idf and SVM)\n",
    "clf = Pipeline([\n",
    "    ('tfidf', TfidfVectorizer()),\n",
    "    ('svm', SVC())\n",
    "])\n",
    "print(\"Pipeline created\")\n",
    "\n",
    "# gridsearch to tune the model\n",
    "param_grid = { \n",
    "    'svm__C' : [.1, 1, 10], \n",
    "    'svm__gamma' : [.1, 1, 10],\n",
    "    'svm__kernel' : ['linear', 'rbf'],\n",
    "    'svm__class_weight' : ['balanced'],\n",
    "    'tfidf__stop_words' : [stopWords],\n",
    "    'tfidf__max_df': [.8],       #[.2, .5, .7, .8, 1]\n",
    "    'tfidf__min_df': [1],        #[0, 3, 5, 10, 20, 30]\n",
    "    'tfidf__tokenizer' : [tokenizer_stemmer],\n",
    "    'tfidf__ngram_range': [(1, 3)]\n",
    " }\n",
    "print(\"Parameters combination setted up\")\n",
    "\n",
    "\n",
    "grid_svm = GridSearchCV(clf, cv=5, param_grid=param_grid, return_train_score=True, scoring = 'f1', verbose=1, n_jobs=-1)\n",
    "print(\"GridSeach configuration setted up\")\n",
    "\n",
    "#fit the model\n",
    "grid_svm.fit(X_train,y_train)\n",
    "print(\"Model fitted\")"
   ]
  },
  {
   "cell_type": "code",
   "execution_count": null,
   "metadata": {},
   "outputs": [],
   "source": [
    "print(\"Test set predicted\")\n",
    "y_pred = grid.predict(X_test)\n",
    "\n",
    "#show classification report\n",
    "target_names = ['Chirac', 'Mitterrand']\n",
    "print(classification_report(y_test, y_pred, target_names=target_names))\n",
    "\n",
    "#show confusion matrix\n",
    "plot_confusion_matrix(y_test, y_pred, normalize=False, title=\"TF_IDF + SVM confusin matrix\"\n",
    "                      classes=target_names)"
   ]
  },
  {
   "cell_type": "markdown",
   "metadata": {},
   "source": [
    "#### 3- Word2Vec + LR"
   ]
  },
  {
   "cell_type": "code",
   "execution_count": null,
   "metadata": {},
   "outputs": [],
   "source": []
  }
 ],
 "metadata": {
  "kernelspec": {
   "display_name": "Python 3",
   "language": "python",
   "name": "python3"
  },
  "language_info": {
   "codemirror_mode": {
    "name": "ipython",
    "version": 3
   },
   "file_extension": ".py",
   "mimetype": "text/x-python",
   "name": "python",
   "nbconvert_exporter": "python",
   "pygments_lexer": "ipython3",
   "version": "3.7.4"
  }
 },
 "nbformat": 4,
 "nbformat_minor": 2
}
