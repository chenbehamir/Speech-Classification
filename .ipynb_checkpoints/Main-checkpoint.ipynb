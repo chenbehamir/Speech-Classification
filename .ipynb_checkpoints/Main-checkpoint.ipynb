{
 "cells": [
  {
   "cell_type": "markdown",
   "metadata": {},
   "source": [
    "### Imports"
   ]
  },
  {
   "cell_type": "code",
   "execution_count": 1,
   "metadata": {},
   "outputs": [],
   "source": [
    "import pandas as pd\n",
    "import matplotlib.pyplot as plt\n",
    "import seaborn as sb\n",
    "from stop_words import get_stop_words\n",
    "import re\n",
    "from string import punctuation"
   ]
  },
  {
   "cell_type": "markdown",
   "metadata": {},
   "source": [
    "### Side functions"
   ]
  },
  {
   "cell_type": "code",
   "execution_count": 2,
   "metadata": {},
   "outputs": [],
   "source": [
    "def cleanString(sentence):\n",
    "    \n",
    "    \"\"\"Return string\n",
    "    \n",
    "    Remove punctuation from sentence\n",
    "    \"\"\"\n",
    "    \n",
    "    return \"\".join(\" \" if p in punctuation else p for p in sentence.strip(punctuation))\n",
    "\n",
    "def cleanStopWords(sentence, stopWords):\n",
    "    \n",
    "    \"\"\"Return string\n",
    "    \n",
    "    Remove stopWords from sentence\n",
    "    \"\"\"\n",
    "    \n",
    "    return ' '.join(w for w in sentence.split(' ') if w not in stopWords)"
   ]
  },
  {
   "cell_type": "markdown",
   "metadata": {},
   "source": [
    "### I- Data loading"
   ]
  },
  {
   "cell_type": "code",
   "execution_count": 3,
   "metadata": {},
   "outputs": [],
   "source": [
    "# load sentences from Data folder\n",
    "sentences = pd.read_pickle(\"Data/sentences.pkl\")\n",
    "# load labels from Data folder\n",
    "labels = pd.read_pickle(\"Data/labels.pkl\")"
   ]
  },
  {
   "cell_type": "code",
   "execution_count": 4,
   "metadata": {},
   "outputs": [],
   "source": [
    "# convert sentences to pandas dataframe\n",
    "data = pd.DataFrame(({'sentences':sentences, 'labels':labels})) "
   ]
  },
  {
   "cell_type": "code",
   "execution_count": 5,
   "metadata": {},
   "outputs": [
    {
     "data": {
      "text/html": [
       "<div>\n",
       "<style scoped>\n",
       "    .dataframe tbody tr th:only-of-type {\n",
       "        vertical-align: middle;\n",
       "    }\n",
       "\n",
       "    .dataframe tbody tr th {\n",
       "        vertical-align: top;\n",
       "    }\n",
       "\n",
       "    .dataframe thead th {\n",
       "        text-align: right;\n",
       "    }\n",
       "</style>\n",
       "<table border=\"1\" class=\"dataframe\">\n",
       "  <thead>\n",
       "    <tr style=\"text-align: right;\">\n",
       "      <th></th>\n",
       "      <th>sentences</th>\n",
       "      <th>labels</th>\n",
       "    </tr>\n",
       "  </thead>\n",
       "  <tbody>\n",
       "    <tr>\n",
       "      <td>0</td>\n",
       "      <td>J'aurai l'occasion de dire aux Français commen...</td>\n",
       "      <td>C</td>\n",
       "    </tr>\n",
       "    <tr>\n",
       "      <td>1</td>\n",
       "      <td>Il est nécessaire.</td>\n",
       "      <td>C</td>\n",
       "    </tr>\n",
       "    <tr>\n",
       "      <td>2</td>\n",
       "      <td>Dans votre coeur et dans votre vie, la confian...</td>\n",
       "      <td>C</td>\n",
       "    </tr>\n",
       "    <tr>\n",
       "      <td>3</td>\n",
       "      <td>Pour conduire ce débat dans un esprit de vérit...</td>\n",
       "      <td>C</td>\n",
       "    </tr>\n",
       "    <tr>\n",
       "      <td>4</td>\n",
       "      <td>La France et l'Europe construiront ainsi un av...</td>\n",
       "      <td>C</td>\n",
       "    </tr>\n",
       "  </tbody>\n",
       "</table>\n",
       "</div>"
      ],
      "text/plain": [
       "                                           sentences labels\n",
       "0  J'aurai l'occasion de dire aux Français commen...      C\n",
       "1                                 Il est nécessaire.      C\n",
       "2  Dans votre coeur et dans votre vie, la confian...      C\n",
       "3  Pour conduire ce débat dans un esprit de vérit...      C\n",
       "4  La France et l'Europe construiront ainsi un av...      C"
      ]
     },
     "execution_count": 5,
     "metadata": {},
     "output_type": "execute_result"
    }
   ],
   "source": [
    "data.head()"
   ]
  },
  {
   "cell_type": "markdown",
   "metadata": {},
   "source": [
    "### II- Data preprocessing"
   ]
  },
  {
   "cell_type": "markdown",
   "metadata": {},
   "source": [
    "In this section, we will clean the data."
   ]
  },
  {
   "cell_type": "code",
   "execution_count": 6,
   "metadata": {},
   "outputs": [],
   "source": [
    "# load list of french stopwords\n",
    "stopWords = get_stop_words('french')\n",
    "# Remove punctuation and set to lowercase\n",
    "data['clean_sentences'] = data['sentences'].apply(lambda s: cleanString(s.lower()))\n",
    "# Remove stop words\n",
    "data['non_stopWords'] = data['clean_sentences'].apply(lambda s: cleanStopWords(s, stopWords))\n",
    "# return the number of words foreach tweet\n",
    "data['count_word'] = data['clean_sentences'].apply(lambda s: len(s.split(' ')))\n",
    "# return the number of non stopwords foreach tweet\n",
    "data['count_non_stopWords'] = data['non_stopWords'].apply(lambda s: len(s.split(' ')))"
   ]
  },
  {
   "cell_type": "code",
   "execution_count": 7,
   "metadata": {},
   "outputs": [
    {
     "data": {
      "text/html": [
       "<div>\n",
       "<style scoped>\n",
       "    .dataframe tbody tr th:only-of-type {\n",
       "        vertical-align: middle;\n",
       "    }\n",
       "\n",
       "    .dataframe tbody tr th {\n",
       "        vertical-align: top;\n",
       "    }\n",
       "\n",
       "    .dataframe thead th {\n",
       "        text-align: right;\n",
       "    }\n",
       "</style>\n",
       "<table border=\"1\" class=\"dataframe\">\n",
       "  <thead>\n",
       "    <tr style=\"text-align: right;\">\n",
       "      <th></th>\n",
       "      <th>sentences</th>\n",
       "      <th>labels</th>\n",
       "      <th>clean_sentences</th>\n",
       "      <th>non_stopWords</th>\n",
       "      <th>count_word</th>\n",
       "      <th>count_non_stopWords</th>\n",
       "    </tr>\n",
       "  </thead>\n",
       "  <tbody>\n",
       "    <tr>\n",
       "      <td>0</td>\n",
       "      <td>J'aurai l'occasion de dire aux Français commen...</td>\n",
       "      <td>C</td>\n",
       "      <td>j aurai l occasion de dire aux français commen...</td>\n",
       "      <td>occasion dire français enseignement devra évol...</td>\n",
       "      <td>59</td>\n",
       "      <td>29</td>\n",
       "    </tr>\n",
       "    <tr>\n",
       "      <td>1</td>\n",
       "      <td>Il est nécessaire.</td>\n",
       "      <td>C</td>\n",
       "      <td>il est nécessaire</td>\n",
       "      <td>nécessaire</td>\n",
       "      <td>3</td>\n",
       "      <td>1</td>\n",
       "    </tr>\n",
       "    <tr>\n",
       "      <td>2</td>\n",
       "      <td>Dans votre coeur et dans votre vie, la confian...</td>\n",
       "      <td>C</td>\n",
       "      <td>dans votre coeur et dans votre vie  la confian...</td>\n",
       "      <td>coeur vie  confiance enthousiasme emportent doute</td>\n",
       "      <td>18</td>\n",
       "      <td>7</td>\n",
       "    </tr>\n",
       "    <tr>\n",
       "      <td>3</td>\n",
       "      <td>Pour conduire ce débat dans un esprit de vérit...</td>\n",
       "      <td>C</td>\n",
       "      <td>pour conduire ce débat dans un esprit de vérit...</td>\n",
       "      <td>conduire débat esprit véritable dialogue  comp...</td>\n",
       "      <td>59</td>\n",
       "      <td>34</td>\n",
       "    </tr>\n",
       "    <tr>\n",
       "      <td>4</td>\n",
       "      <td>La France et l'Europe construiront ainsi un av...</td>\n",
       "      <td>C</td>\n",
       "      <td>la france et l europe construiront ainsi un av...</td>\n",
       "      <td>france europe construiront ainsi avenir coopér...</td>\n",
       "      <td>34</td>\n",
       "      <td>21</td>\n",
       "    </tr>\n",
       "  </tbody>\n",
       "</table>\n",
       "</div>"
      ],
      "text/plain": [
       "                                           sentences labels  \\\n",
       "0  J'aurai l'occasion de dire aux Français commen...      C   \n",
       "1                                 Il est nécessaire.      C   \n",
       "2  Dans votre coeur et dans votre vie, la confian...      C   \n",
       "3  Pour conduire ce débat dans un esprit de vérit...      C   \n",
       "4  La France et l'Europe construiront ainsi un av...      C   \n",
       "\n",
       "                                     clean_sentences  \\\n",
       "0  j aurai l occasion de dire aux français commen...   \n",
       "1                                  il est nécessaire   \n",
       "2  dans votre coeur et dans votre vie  la confian...   \n",
       "3  pour conduire ce débat dans un esprit de vérit...   \n",
       "4  la france et l europe construiront ainsi un av...   \n",
       "\n",
       "                                       non_stopWords  count_word  \\\n",
       "0  occasion dire français enseignement devra évol...          59   \n",
       "1                                         nécessaire           3   \n",
       "2  coeur vie  confiance enthousiasme emportent doute          18   \n",
       "3  conduire débat esprit véritable dialogue  comp...          59   \n",
       "4  france europe construiront ainsi avenir coopér...          34   \n",
       "\n",
       "   count_non_stopWords  \n",
       "0                   29  \n",
       "1                    1  \n",
       "2                    7  \n",
       "3                   34  \n",
       "4                   21  "
      ]
     },
     "execution_count": 7,
     "metadata": {},
     "output_type": "execute_result"
    }
   ],
   "source": [
    "data.head()"
   ]
  },
  {
   "cell_type": "markdown",
   "metadata": {},
   "source": [
    "### III- EDA "
   ]
  },
  {
   "cell_type": "markdown",
   "metadata": {},
   "source": [
    "#### 1- Data balancy"
   ]
  },
  {
   "cell_type": "code",
   "execution_count": 8,
   "metadata": {},
   "outputs": [
    {
     "data": {
      "text/plain": [
       "Text(0.5, 1.0, 'Labels count')"
      ]
     },
     "execution_count": 8,
     "metadata": {},
     "output_type": "execute_result"
    },
    {
     "data": {
      "image/png": "[encoded data removed]",
      "text/plain": [
       "<Figure size 576x432 with 1 Axes>"
      ]
     },
     "metadata": {
      "needs_background": "light"
     },
     "output_type": "display_data"
    }
   ],
   "source": [
    "#Is the dataset balanced?\n",
    "plt.figure(figsize=(8, 6))  # set plot size\n",
    "ax = sb.countplot(x=\"labels\", data=data)\n",
    "ax.set_title(\"Labels count\")"
   ]
  },
  {
   "cell_type": "markdown",
   "metadata": {},
   "source": [
    "The plot shows that our data is unbalanced. We get around 40000 rows for Chirac versus 6000 rows for Mitterrand. \n",
    "We have to take into consideration this point when splitting the data."
   ]
  },
  {
   "cell_type": "markdown",
   "metadata": {},
   "source": [
    "#### 2- Words count"
   ]
  },
  {
   "cell_type": "code",
   "execution_count": null,
   "metadata": {},
   "outputs": [],
   "source": []
  },
  {
   "cell_type": "markdown",
   "metadata": {},
   "source": [
    "#### 3- Most used words"
   ]
  },
  {
   "cell_type": "markdown",
   "metadata": {},
   "source": [
    "#### 4- Exclusive words"
   ]
  }
 ],
 "metadata": {
  "kernelspec": {
   "display_name": "Python 3",
   "language": "python",
   "name": "python3"
  },
  "language_info": {
   "codemirror_mode": {
    "name": "ipython",
    "version": 3
   },
   "file_extension": ".py",
   "mimetype": "text/x-python",
   "name": "python",
   "nbconvert_exporter": "python",
   "pygments_lexer": "ipython3",
   "version": "3.7.4"
  }
 },
 "nbformat": 4,
 "nbformat_minor": 2
}
